{
 "cells": [
  {
   "cell_type": "markdown",
   "metadata": {},
   "source": [
    "## Final Scoreboard\n"
   ]
  },
  {
   "cell_type": "code",
   "execution_count": null,
   "metadata": {},
   "outputs": [
    {
     "ename": "",
     "evalue": "",
     "output_type": "error",
     "traceback": [
      "\u001b[1;31mRunning cells with 'Python 3.11.6' requires the ipykernel package.\n",
      "\u001b[1;31mRun the following command to install 'ipykernel' into the Python environment. \n",
      "\u001b[1;31mCommand: 'c:/msys64/mingw64/bin/python.exe -m pip install ipykernel -U --user --force-reinstall'"
     ]
    }
   ],
   "source": [
    "import pandas as pd\n",
    "import numpy as np"
   ]
  },
  {
   "cell_type": "code",
   "execution_count": null,
   "metadata": {},
   "outputs": [],
   "source": [
    "df = pd.read_csv(\"instaInfluencer.csv\")\n",
    "df.head()"
   ]
  },
  {
   "cell_type": "code",
   "execution_count": null,
   "metadata": {},
   "outputs": [],
   "source": [
    "from sklearn.preprocessing import MinMaxScaler\n",
    "\n",
    "# Normalize the metrics so that they are in the range [0, 1]\n",
    "scaler = MinMaxScaler()\n",
    "df[\"credScore\"] = 0.6*df[\"credibilityScore\"]+df[\"credScore\"]*0.4\n",
    "df['norm_engagement'] = scaler.fit_transform(df[['engagementRate']])\n",
    "df['norm_cred'] = scaler.fit_transform(df[['credScore']])\n",
    "\n",
    "# Define weights for each metric (adjust these values as needed)\n",
    "weight_engagement = 0.15\n",
    "weight_cred = 0.85\n",
    "\n",
    "# Compute the overall ranking score for each influencer\n",
    "df['ranking_score'] = weight_engagement * df['norm_engagement'] + weight_cred * df['norm_cred']\n",
    "\n",
    "# Rank influencers: highest ranking_score gets rank 1\n",
    "df['rank'] = df['ranking_score'].rank(method='dense', ascending=False)\n",
    "\n",
    "# Optionally, sort the DataFrame by rank (or ranking_score) to view the ranking\n",
    "df_sorted = df.sort_values('rank')\n",
    "\n",
    "# Display relevant columns\n",
    "df_sorted[['username', 'engagementRate', 'credScore', 'ranking_score', 'rank']]\n"
   ]
  },
  {
   "cell_type": "code",
   "execution_count": null,
   "metadata": {},
   "outputs": [],
   "source": [
    "df_sorted.tail(10)"
   ]
  },
  {
   "cell_type": "code",
   "execution_count": null,
   "metadata": {},
   "outputs": [],
   "source": [
    "df_sorted.to_csv('AuraLevel.csv', index=False)"
   ]
  },
  {
   "cell_type": "code",
   "execution_count": null,
   "metadata": {},
   "outputs": [],
   "source": [
    "df['ranking_score'].describe()"
   ]
  }
 ],
 "metadata": {
  "kernelspec": {
   "display_name": "Python 3",
   "language": "python",
   "name": "python3"
  },
  "language_info": {
   "codemirror_mode": {
    "name": "ipython",
    "version": 3
   },
   "file_extension": ".py",
   "mimetype": "text/x-python",
   "name": "python",
   "nbconvert_exporter": "python",
   "pygments_lexer": "ipython3",
   "version": "3.11.6"
  }
 },
 "nbformat": 4,
 "nbformat_minor": 2
}
